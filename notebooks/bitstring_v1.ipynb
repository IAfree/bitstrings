{
 "cells": [
  {
   "cell_type": "code",
   "execution_count": 1,
   "metadata": {
    "collapsed": true
   },
   "outputs": [],
   "source": [
    "import os\n",
    "from bitstring import Bits, BitStream, ConstBitStream, BitArray\n",
    "# https://pythonhosted.org/bitstring/quick_ref.html\n",
    "# https://pypi.python.org/pypi/bitstring/3.1.3\n",
    "# https://github.com/scott-griffiths/bitstring"
   ]
  },
  {
   "cell_type": "code",
   "execution_count": 2,
   "metadata": {
    "collapsed": false
   },
   "outputs": [
    {
     "name": "stdout",
     "output_type": "stream",
     "text": [
      "Files in ./media/ directory: \n",
      " ['DSC_1180.NEF', 'mem7.PNG', 'SUNP0001.JPG', 'SUNP0096.AVI', 'Thumbs.db']\n"
     ]
    }
   ],
   "source": [
    "# set media_dir and create list of files in directory\n",
    "media_dir = '../media/'\n",
    "\n",
    "#file_name_list = [f for f in os.listdir(media_dir) if os.path.isfile(os.path.join(media_dir, f))]\n",
    "file_name_list = [f for f in os.listdir(media_dir) if os.path.isfile(os.path.join(media_dir, f))]\n",
    "print ('Files in ./media/ directory: \\n', file_name_list)"
   ]
  },
  {
   "cell_type": "code",
   "execution_count": 3,
   "metadata": {
    "collapsed": false
   },
   "outputs": [
    {
     "name": "stdout",
     "output_type": "stream",
     "text": [
      "Files in file_name_list: \n",
      " ['DSC_1180.NEF', 'mem7.PNG', 'SUNP0001.JPG', 'SUNP0096.AVI']\n"
     ]
    }
   ],
   "source": [
    "#remove Thumbs.db\n",
    "file_name_list.remove('Thumbs.db')\n",
    "print ('Files in file_name_list: \\n',file_name_list)"
   ]
  },
  {
   "cell_type": "code",
   "execution_count": 4,
   "metadata": {
    "collapsed": false
   },
   "outputs": [],
   "source": [
    "# test using BitArray() to read \n",
    "png = BitArray(bytes=open((media_dir+'mem7.PNG'), 'rb').read())\n",
    "jpg = BitArray(bytes=open((media_dir+'SUNP0001.JPG'), 'rb').read())\n",
    "avi = BitArray(bytes=open((media_dir+'SUNP0096.AVI'), 'rb').read())\n",
    "nef = BitArray(bytes=open((media_dir+'DSC_1180.NEF'), 'rb').read())\n"
   ]
  },
  {
   "cell_type": "code",
   "execution_count": 5,
   "metadata": {
    "collapsed": false
   },
   "outputs": [],
   "source": [
    "file_bitarrays = []\n",
    "file_bitarrays = [png, jpg, avi, nef]"
   ]
  },
  {
   "cell_type": "code",
   "execution_count": 6,
   "metadata": {
    "collapsed": false,
    "scrolled": true
   },
   "outputs": [
    {
     "name": "stdout",
     "output_type": "stream",
     "text": [
      "\n",
      "0x89504e470d0a1a0a0000000d49484452000003bd00000402080600000060e69f82000000017352474200aece1ce90000000467414d410000b18f0bfc6105000000097048597300000ec300000ec301c76fa8640000abb149444154785eedfd3b92f4bca12e6acae9e8f697d3b6ccb2642b34811569af292822bd1ec276...\n",
      "---\n",
      "0xffd8ffe1187f45786966000049492a00080000000a00310102000b000000860000000f0102000b00000091000000100102000b0000009c0000001201030001000000010000001a01050001000000a70000001b01050001000000af0000002801030001000000020000003201020014000000b700000013020300010000...\n",
      "---\n",
      "0x5249464650101101415649204c495354ec7f00006864726c61766968380000005f820000000000000000000010090000c000000000000000020000000000300000050000d0020000000000000000000000000000000000004c495354740000007374726c7374726838000000766964734d4a5047000000000000000000...\n",
      "---\n",
      "0x4d4d002a00000008001900fe000400000001000000010100000400000001000000a001010004000000010000007801020003000000030000013c010300030000000100010000010600030000000100020000010f00020000001200000144011000020000000a0000015801110004000000010001d91001120003000000...\n",
      "---\n"
     ]
    }
   ],
   "source": [
    "print ('')\n",
    "for file in file_bitarrays:\n",
    "    print (file)\n",
    "    print ('---')\n",
    "\n",
    "#for file in file_bitarrays:\n",
    "#    print (Bits(file))\n",
    "#    print ('---')"
   ]
  },
  {
   "cell_type": "code",
   "execution_count": 7,
   "metadata": {
    "collapsed": false
   },
   "outputs": [
    {
     "data": {
      "text/plain": [
       "ConstBitStream(filename='../media/mem7.PNG', length=352480)"
      ]
     },
     "execution_count": 7,
     "metadata": {},
     "output_type": "execute_result"
    }
   ],
   "source": [
    "png_cbs = ConstBitStream(filename=(media_dir+'mem7.PNG'))\n",
    "png_cbs"
   ]
  },
  {
   "cell_type": "code",
   "execution_count": 8,
   "metadata": {
    "collapsed": false
   },
   "outputs": [
    {
     "name": "stdout",
     "output_type": "stream",
     "text": [
      "0x89504e470d0a1a0a0000000d49484452000003bd00000402080600000060e69f82000000017352474200aece1ce90000000467414d410000b18f0bfc6105000000097048597300000ec300000ec301c76fa8640000abb149444154785eedfd3b92f4bca12e6acae9e8f697d3b6ccb2642b34811569af292822bd1ec276...\n"
     ]
    }
   ],
   "source": [
    "print (png_cbs.read(len(png_cbs)))"
   ]
  },
  {
   "cell_type": "code",
   "execution_count": 9,
   "metadata": {
    "collapsed": false
   },
   "outputs": [
    {
     "name": "stdout",
     "output_type": "stream",
     "text": [
      "\n",
      "-------------\n",
      "--- test ---\n",
      "-------------\n",
      "<class '_io.BufferedReader'>\n",
      "<_io.BufferedReader name='../media/mem7.PNG'>\n",
      "\n",
      "-------------\n",
      "--- test2 ---\n",
      "-------------\n",
      "<class 'bitstring.Bits'>\n",
      "0x89504e470d0a1a0a0000000d49484452000003bd00000402080600000060e69f82000000017352474200aece1ce90000000467414d410000b18f0bfc6105000000097048597300000ec300000ec301c76fa8640000abb149444154785eedfd3b92f4bca12e6acae9e8f697d3b6ccb2642b34811569af292822bd1ec276...\n",
      "\n",
      "----------------\n",
      "--- test3 ---\n",
      "----------------\n",
      "<class 'bytes'>\n",
      "b'\\x89PNG\\r\\n\\x1a\\n\\x00\\x00\\x00\\rIHDR\\x00\\x00\\x03\\xbd\\x00\\x00\\x04\\x02\\x08\\x06\\x00\\x00\\x00`\\xe6\\x9f\\x82\\x00\\x00\\x00\\x01sRGB\\x00\\xae\\xce\\x1c\\xe9\\x00\\x00\\x00\\x04gAMA\\x00\\x00\\xb1\\x8f\\x0b\\xfca\\x05\\x00\\x00\\x00\\tpHYs\\x00\\x00\\x0e\\xc3\\x00\\x00\\x0e\\xc3\\x01\\xc7o\\xa8d\\x00\\x00\\xab\\xb1IDATx^\\xed\\xfd;\\x92\\xf4\\xbc\\xa1'...\n",
      "\n",
      "------------------------------\n",
      "--- test object comparison ---\n",
      "------------------------------\n",
      "(test2 == test3) is:   True\n"
     ]
    }
   ],
   "source": [
    "print ('\\n-------------')\n",
    "print ('--- test ---')\n",
    "print ('-------------')\n",
    "test = open((media_dir+'mem7.PNG'), 'rb')\n",
    "print (type(test))\n",
    "print (test)\n",
    "\n",
    "print ('\\n-------------')\n",
    "print ('--- test2 ---')\n",
    "print ('-------------')\n",
    "test2 = Bits(test)\n",
    "test.close()\n",
    "print (type(test2))\n",
    "print (test2)\n",
    "\n",
    "print ('\\n----------------')\n",
    "print ('--- test3 ---')\n",
    "print ('----------------')\n",
    "with open((media_dir+'mem7.PNG'), 'rb') as f:\n",
    "    test3 = f.read()\n",
    "print (type(test3))\n",
    "print (test3[0:100], '...', sep='')\n",
    "\n",
    "print ('\\n------------------------------')\n",
    "print ('--- test object comparison ---')\n",
    "print ('------------------------------')\n",
    "#print (test == test2)\n",
    "print ('(test2 == test3) is:  ', test2 == test3)"
   ]
  }
 ],
 "metadata": {
  "anaconda-cloud": {},
  "kernelspec": {
   "display_name": "Python [Root]",
   "language": "python",
   "name": "Python [Root]"
  },
  "language_info": {
   "codemirror_mode": {
    "name": "ipython",
    "version": 3
   },
   "file_extension": ".py",
   "mimetype": "text/x-python",
   "name": "python",
   "nbconvert_exporter": "python",
   "pygments_lexer": "ipython3",
   "version": "3.5.2"
  }
 },
 "nbformat": 4,
 "nbformat_minor": 0
}
